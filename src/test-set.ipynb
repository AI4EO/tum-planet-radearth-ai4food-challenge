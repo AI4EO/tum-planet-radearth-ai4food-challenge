{
 "cells": [
  {
   "cell_type": "code",
   "execution_count": 1,
   "metadata": {},
   "outputs": [
    {
     "name": "stderr",
     "output_type": "stream",
     "text": [
      "2021-12-17 03:49:25.904076: W tensorflow/stream_executor/platform/default/dso_loader.cc:64] Could not load dynamic library 'libcudart.so.11.0'; dlerror: libcudart.so.11.0: cannot open shared object file: No such file or directory; LD_LIBRARY_PATH: /nfshomes/izvonkov/torch/install/lib:\n",
      "2021-12-17 03:49:25.904117: I tensorflow/stream_executor/cuda/cudart_stub.cc:29] Ignore above cudart dlerror if you do not have a GPU set up on your machine.\n"
     ]
    }
   ],
   "source": [
    "import geopandas as gpd\n",
    "import warnings\n",
    "import tensorflow as tf\n",
    "import numpy as np\n",
    "import pandas as pd\n",
    "import json\n",
    "import matplotlib.pyplot as plt\n",
    "\n",
    "from pathlib import Path\n",
    "from sklearn.metrics import accuracy_score\n",
    "from shapely.errors import ShapelyDeprecationWarning\n",
    "\n",
    "from helper import root\n",
    "\n",
    "warnings.filterwarnings(action=\"ignore\", category=ShapelyDeprecationWarning)\n"
   ]
  },
  {
   "cell_type": "code",
   "execution_count": 2,
   "metadata": {},
   "outputs": [],
   "source": [
    "competition = \"ref_fusion_competition_south_africa\"\n",
    "labels_258_path = root / f\"{competition}_train_labels/{competition}_train_labels_34S_19E_258N/labels.geojson\"\n",
    "labels_258 = gpd.read_file(labels_258_path)\n",
    "\n",
    "labels_259_path = root / f\"{competition}_train_labels/{competition}_train_labels_34S_19E_259N/labels.geojson\"\n",
    "labels_259 = gpd.read_file(labels_259_path)\n",
    "\n",
    "labels = pd.concat([labels_258, labels_259], ignore_index=True)\n",
    "\n",
    "labels_test_path = root / f\"{competition}_test_labels/{competition}_test_labels_34S_20E_259N/labels.geojson\"\n",
    "labels_test = gpd.read_file(labels_test_path)"
   ]
  },
  {
   "cell_type": "code",
   "execution_count": 8,
   "metadata": {},
   "outputs": [],
   "source": [
    "def get_y_pred(model_id: str = \"btt8xazt-epoch31\"):\n",
    "    p = root.parent / f\"submissions/{model_id}/34S-20E-259N-2017-submission-{model_id}.json\"\n",
    "    with p.open(\"r\") as f:\n",
    "        submission = json.load(f)\n",
    "\n",
    "    return np.array(list(submission[\"crop_id\"].values()))"
   ]
  },
  {
   "cell_type": "code",
   "execution_count": 14,
   "metadata": {},
   "outputs": [],
   "source": [
    "model_id = \"btt8xazt-epoch31\"\n",
    "p = root.parent / f\"submissions/{model_id}/34S-20E-259N-2017-submission-{model_id}.json\"\n",
    "with p.open(\"r\") as f:\n",
    "    submission = json.load(f)"
   ]
  },
  {
   "cell_type": "code",
   "execution_count": 20,
   "metadata": {},
   "outputs": [],
   "source": [
    "df = pd.DataFrame(submission)"
   ]
  },
  {
   "cell_type": "code",
   "execution_count": 29,
   "metadata": {},
   "outputs": [
    {
     "data": {
      "text/plain": [
       "4    1698\n",
       "1     413\n",
       "5     199\n",
       "2      59\n",
       "3      48\n",
       "Name: crop_id, dtype: int64"
      ]
     },
     "execution_count": 29,
     "metadata": {},
     "output_type": "execute_result"
    }
   ],
   "source": [
    "df[\"crop_id\"].value_counts()"
   ]
  },
  {
   "cell_type": "code",
   "execution_count": 36,
   "metadata": {},
   "outputs": [
    {
     "data": {
      "text/plain": [
       "fid                                                      185495\n",
       "crop_id                                                       4\n",
       "crop_name                                        Lucerne/Medics\n",
       "crop_probs    [0.0123134553, 0.0252904259, 0.0020230536, 0.9...\n",
       "Name: 3, dtype: object"
      ]
     },
     "execution_count": 36,
     "metadata": {},
     "output_type": "execute_result"
    }
   ],
   "source": [
    "df.iloc[3]"
   ]
  },
  {
   "cell_type": "code",
   "execution_count": 38,
   "metadata": {},
   "outputs": [
    {
     "data": {
      "text/plain": [
       "[0.0123134553, 0.0252904259, 0.0020230536, 0.9485732317, 0.0117998486]"
      ]
     },
     "execution_count": 38,
     "metadata": {},
     "output_type": "execute_result"
    }
   ],
   "source": [
    "df.iloc[3][\"crop_probs\"]"
   ]
  },
  {
   "cell_type": "code",
   "execution_count": 31,
   "metadata": {},
   "outputs": [
    {
     "data": {
      "text/plain": [
       "Lucerne/Medics         1698\n",
       "Wheat                   413\n",
       "Small grain grazing     199\n",
       "Barley                   59\n",
       "Canola                   48\n",
       "Name: crop_name, dtype: int64"
      ]
     },
     "execution_count": 31,
     "metadata": {},
     "output_type": "execute_result"
    }
   ],
   "source": [
    "df[\"crop_name\"].value_counts()"
   ]
  },
  {
   "cell_type": "code",
   "execution_count": 9,
   "metadata": {},
   "outputs": [],
   "source": [
    "best_models = [\n",
    "    (\"btt8xazt-epoch31\", 5.108),\n",
    "    (\"2oi3ijbb-epoch23\", 5.35),\n",
    "    (\"1k59ieij-epoch41\", 5.49),\n",
    "    (\"ahqialkz-epoch13\", 5.51),\n",
    "    (\"3gfvferq-68\", 5.84)\n",
    "]\n",
    "\n",
    "best_models = [(model_id, score, get_y_pred(model_id)) for model_id, score in best_models]\n"
   ]
  },
  {
   "cell_type": "code",
   "execution_count": 147,
   "metadata": {},
   "outputs": [
    {
     "data": {
      "text/plain": [
       "<AxesSubplot:>"
      ]
     },
     "execution_count": 147,
     "metadata": {},
     "output_type": "execute_result"
    },
    {
     "data": {
      "image/png": "[encoded data removed]",
      "text/plain": [
       "<Figure size 1440x720 with 1 Axes>"
      ]
     },
     "metadata": {
      "needs_background": "light"
     },
     "output_type": "display_data"
    }
   ],
   "source": [
    "distributions = pd.DataFrame({})\n",
    "for model_id, score, y_pred in best_models:\n",
    "    distributions[score] = pd.Series(y_pred).value_counts(normalize=True)\n",
    "distributions[\"labels_258\"] = labels_258[\"crop_id\"].value_counts(normalize=True)\n",
    "distributions[\"labels_259\"] = labels_259[\"crop_id\"].value_counts(normalize=True)\n",
    "distributions.plot(kind=\"bar\", figsize=(20, 10))"
   ]
  },
  {
   "cell_type": "code",
   "execution_count": 132,
   "metadata": {},
   "outputs": [
    {
     "data": {
      "text/html": [
       "<div>\n",
       "<style scoped>\n",
       "    .dataframe tbody tr th:only-of-type {\n",
       "        vertical-align: middle;\n",
       "    }\n",
       "\n",
       "    .dataframe tbody tr th {\n",
       "        vertical-align: top;\n",
       "    }\n",
       "\n",
       "    .dataframe thead th {\n",
       "        text-align: right;\n",
       "    }\n",
       "</style>\n",
       "<table border=\"1\" class=\"dataframe\">\n",
       "  <thead>\n",
       "    <tr style=\"text-align: right;\">\n",
       "      <th></th>\n",
       "      <th>y_pred</th>\n",
       "      <th>y_train1</th>\n",
       "    </tr>\n",
       "  </thead>\n",
       "  <tbody>\n",
       "    <tr>\n",
       "      <th>4</th>\n",
       "      <td>0.702524</td>\n",
       "      <td>0.395335</td>\n",
       "    </tr>\n",
       "    <tr>\n",
       "      <th>1</th>\n",
       "      <td>0.170873</td>\n",
       "      <td>0.266472</td>\n",
       "    </tr>\n",
       "    <tr>\n",
       "      <th>5</th>\n",
       "      <td>0.082333</td>\n",
       "      <td>0.089213</td>\n",
       "    </tr>\n",
       "    <tr>\n",
       "      <th>2</th>\n",
       "      <td>0.024410</td>\n",
       "      <td>0.114286</td>\n",
       "    </tr>\n",
       "    <tr>\n",
       "      <th>3</th>\n",
       "      <td>0.019859</td>\n",
       "      <td>0.134694</td>\n",
       "    </tr>\n",
       "  </tbody>\n",
       "</table>\n",
       "</div>"
      ],
      "text/plain": [
       "     y_pred  y_train1\n",
       "4  0.702524  0.395335\n",
       "1  0.170873  0.266472\n",
       "5  0.082333  0.089213\n",
       "2  0.024410  0.114286\n",
       "3  0.019859  0.134694"
      ]
     },
     "execution_count": 132,
     "metadata": {},
     "output_type": "execute_result"
    }
   ],
   "source": [
    "distributions"
   ]
  },
  {
   "cell_type": "code",
   "execution_count": 148,
   "metadata": {},
   "outputs": [
    {
     "data": {
      "text/plain": [
       "array([1, 2, 3, 4, 5])"
      ]
     },
     "execution_count": 148,
     "metadata": {},
     "output_type": "execute_result"
    }
   ],
   "source": [
    "classes = labels_258[\"crop_id\"].unique()\n",
    "classes.sort()\n",
    "classes"
   ]
  },
  {
   "cell_type": "code",
   "execution_count": 149,
   "metadata": {},
   "outputs": [],
   "source": [
    "counts = labels_258[\"crop_id\"].value_counts(normalize=True)\n",
    "probabilities = [counts[c] for c in classes]"
   ]
  },
  {
   "cell_type": "code",
   "execution_count": 150,
   "metadata": {},
   "outputs": [],
   "source": [
    "cross_entropy_func = tf.keras.losses.CategoricalCrossentropy(from_logits=False)\n",
    "def scores(y_true, y_pred):\n",
    "    y_true_ohe = tf.one_hot(y_true - 1, depth=len(classes))\n",
    "    y_pred_ohe = tf.one_hot(y_pred - 1, depth=len(classes))\n",
    "    cross_entropy_loss = cross_entropy_func(y_true_ohe, y_pred_ohe).numpy()\n",
    "    accuracy = accuracy_score(y_true, y_pred)\n",
    "    return cross_entropy_loss, accuracy"
   ]
  },
  {
   "cell_type": "code",
   "execution_count": 152,
   "metadata": {},
   "outputs": [],
   "source": [
    "#accuracies = []\n",
    "losses = []\n",
    "percent_right = []\n",
    "y_true = best_models[0][2]\n",
    "for i in np.arange(0.0, 1.0, 0.1):\n",
    "    split = round(len(y_true)*i)\n",
    "    y_pred = np.random.choice(classes, p=probabilities, size=len(y_true))\n",
    "    y_pred[:split] = y_true[:split]\n",
    "    loss, accuracy = scores(y_true, y_pred)\n",
    "    percent_right.append(i)\n",
    "    losses.append(loss)"
   ]
  },
  {
   "cell_type": "code",
   "execution_count": 153,
   "metadata": {},
   "outputs": [
    {
     "data": {
      "text/plain": [
       "(12.890458, 0.20024824162184526)"
      ]
     },
     "execution_count": 153,
     "metadata": {},
     "output_type": "execute_result"
    }
   ],
   "source": [
    "# Random guess\n",
    "y_pred = np.random.choice(classes, size=len(y_true))\n",
    "scores(y_true, y_pred)"
   ]
  },
  {
   "cell_type": "code",
   "execution_count": 154,
   "metadata": {},
   "outputs": [
    {
     "data": {
      "text/plain": [
       "(4.7947516, 0.7025237898220935)"
      ]
     },
     "execution_count": 154,
     "metadata": {},
     "output_type": "execute_result"
    }
   ],
   "source": [
    "# Guessing most common class for everything\n",
    "# Try this baseline\n",
    "y_pred = np.array([4]*len(y_true))\n",
    "scores(y_true, y_pred)"
   ]
  },
  {
   "cell_type": "code",
   "execution_count": 159,
   "metadata": {},
   "outputs": [
    {
     "data": {
      "text/plain": [
       "(6.335208, 0.6069507654116674)"
      ]
     },
     "execution_count": 159,
     "metadata": {},
     "output_type": "execute_result"
    }
   ],
   "source": [
    "# 50 percent of the time, guess the correct class\n",
    "split = round(len(y_true)*0.5)\n",
    "y_pred = np.random.choice(classes, size=len(y_true))\n",
    "y_pred[:split] = y_true[:split]\n",
    "scores(y_true, y_pred)"
   ]
  },
  {
   "cell_type": "code",
   "execution_count": 162,
   "metadata": {},
   "outputs": [
    {
     "data": {
      "text/plain": [
       "(5.8617344, 0.6363260239966901)"
      ]
     },
     "execution_count": 162,
     "metadata": {},
     "output_type": "execute_result"
    }
   ],
   "source": [
    "# 55 percent of the time, guess the correct class\n",
    "split = round(len(y_true)*0.55)\n",
    "y_pred = np.random.choice(classes, size=len(y_true))\n",
    "y_pred[:split] = y_true[:split]\n",
    "scores(y_true, y_pred)"
   ]
  },
  {
   "cell_type": "code",
   "execution_count": 163,
   "metadata": {},
   "outputs": [
    {
     "data": {
      "text/plain": [
       "(5.2215447, 0.6760446834919321)"
      ]
     },
     "execution_count": 163,
     "metadata": {},
     "output_type": "execute_result"
    }
   ],
   "source": [
    "# 60 percent of the time, guess the correct class\n",
    "split = round(len(y_true)*0.6)\n",
    "y_pred = np.random.choice(classes, size=len(y_true))\n",
    "y_pred[:split] = y_true[:split]\n",
    "scores(y_true, y_pred)"
   ]
  },
  {
   "cell_type": "code",
   "execution_count": null,
   "metadata": {},
   "outputs": [],
   "source": []
  }
 ],
 "metadata": {
  "interpreter": {
   "hash": "53b82f703da19690d810afda888407240a450ccd8577d3f84a7c8867473cd930"
  },
  "kernelspec": {
   "display_name": "Python 3.8.5 64-bit ('venv': venv)",
   "language": "python",
   "name": "python385jvsc74a57bd053b82f703da19690d810afda888407240a450ccd8577d3f84a7c8867473cd930"
  },
  "language_info": {
   "codemirror_mode": {
    "name": "ipython",
    "version": 3
   },
   "file_extension": ".py",
   "mimetype": "text/x-python",
   "name": "python",
   "nbconvert_exporter": "python",
   "pygments_lexer": "ipython3",
   "version": "3.8.5"
  },
  "orig_nbformat": 4
 },
 "nbformat": 4,
 "nbformat_minor": 2
}
