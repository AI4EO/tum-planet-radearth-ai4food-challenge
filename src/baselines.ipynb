{
 "cells": [
  {
   "cell_type": "code",
   "execution_count": 5,
   "metadata": {},
   "outputs": [],
   "source": [
    "import sys\n",
    "\n",
    "from tqdm.notebook import tqdm\n",
    "from helper import load_reader"
   ]
  },
  {
   "cell_type": "code",
   "execution_count": 2,
   "metadata": {},
   "outputs": [
    {
     "name": "stdout",
     "output_type": "stream",
     "text": [
      "INFO: Ignoring 0/2417 fields with area < 0m2\n"
     ]
    },
    {
     "name": "stderr",
     "output_type": "stream",
     "text": [
      "100%|██████████████████████████████████████████████████████████████████████████████████████████████████████| 2417/2417 [00:00<00:00, 3989.47it/s]\n"
     ]
    }
   ],
   "source": [
    "_, reader = load_reader(\n",
    "    satellite=\"sentinel_2\",\n",
    "    pos=\"34S_20E_259N\",\n",
    "    include_bands=True,\n",
    "    include_cloud=True,\n",
    "    include_ndvi=True,\n",
    "    spatial_backbone=\"mean_pixel\",\n",
    "    image_size=32,\n",
    "    min_area_to_ignore=0,\n",
    "    train_or_test=\"test\",\n",
    ")"
   ]
  },
  {
   "cell_type": "code",
   "execution_count": 6,
   "metadata": {},
   "outputs": [],
   "source": [
    "name = \"all_lucerne_medics\""
   ]
  },
  {
   "cell_type": "code",
   "execution_count": 7,
   "metadata": {},
   "outputs": [
    {
     "data": {
      "application/vnd.jupyter.widget-view+json": {
       "model_id": "6c0f1a91fc2046dbb699110321c4ee43",
       "version_major": 2,
       "version_minor": 0
      },
      "text/plain": [
       "Saving predictions::   0%|          | 0/2417 [00:00<?, ?it/s]"
      ]
     },
     "metadata": {},
     "output_type": "display_data"
    },
    {
     "ename": "NameError",
     "evalue": "name 'output_list' is not defined",
     "output_type": "error",
     "traceback": [
      "\u001b[0;31m---------------------------------------------------------------------------\u001b[0m",
      "\u001b[0;31mNameError\u001b[0m                                 Traceback (most recent call last)",
      "\u001b[0;32m/tmp/ipykernel_79157/2923777750.py\u001b[0m in \u001b[0;36m<module>\u001b[0;34m\u001b[0m\n\u001b[1;32m      7\u001b[0m ):\n\u001b[1;32m      8\u001b[0m \u001b[0;34m\u001b[0m\u001b[0m\n\u001b[0;32m----> 9\u001b[0;31m     output_list.append(\n\u001b[0m\u001b[1;32m     10\u001b[0m         {\n\u001b[1;32m     11\u001b[0m             \u001b[0;34m\"fid\"\u001b[0m\u001b[0;34m:\u001b[0m \u001b[0mfid\u001b[0m\u001b[0;34m,\u001b[0m\u001b[0;34m\u001b[0m\u001b[0;34m\u001b[0m\u001b[0m\n",
      "\u001b[0;31mNameError\u001b[0m: name 'output_list' is not defined"
     ]
    }
   ],
   "source": [
    "output_list = []\n",
    "for X, _, mask, fid in tqdm(\n",
    "    reader,\n",
    "    total=len(reader),\n",
    "    position=0,\n",
    "    leave=True,\n",
    "    desc=\"Saving predictions:\",\n",
    "):\n",
    "\n",
    "    output_list.append(\n",
    "        {\n",
    "            \"fid\": fid,\n",
    "            \"crop_id\": 4,  # save label list\n",
    "            \"crop_name\": \"Lucerne/Medics\",\n",
    "            \"crop_probs\": [0,0,0,1,0],\n",
    "        }\n",
    "    )\n",
    "\n",
    "output_frame = pd.DataFrame.from_dict(output_list)\n",
    "\n",
    "submission_path = Path(f\"submissions/{name}/34S-20E-259N-2017-submission-{name}.json\")\n",
    "submission_path.parent.mkdir(parents=True, exist_ok=True)\n",
    "output_frame.to_json(submission_path)\n",
    "\n",
    "os.system(f\"cd submissions && tar czf {name}.tar.gz {name}\")"
   ]
  },
  {
   "cell_type": "code",
   "execution_count": null,
   "metadata": {},
   "outputs": [],
   "source": []
  }
 ],
 "metadata": {
  "interpreter": {
   "hash": "53b82f703da19690d810afda888407240a450ccd8577d3f84a7c8867473cd930"
  },
  "kernelspec": {
   "display_name": "Python 3.8.5 64-bit ('venv': venv)",
   "language": "python",
   "name": "python385jvsc74a57bd053b82f703da19690d810afda888407240a450ccd8577d3f84a7c8867473cd930"
  },
  "language_info": {
   "codemirror_mode": {
    "name": "ipython",
    "version": 3
   },
   "file_extension": ".py",
   "mimetype": "text/x-python",
   "name": "python",
   "nbconvert_exporter": "python",
   "pygments_lexer": "ipython3",
   "version": "3.8.5"
  },
  "orig_nbformat": 4
 },
 "nbformat": 4,
 "nbformat_minor": 2
}
